{
  "cells": [
    {
      "cell_type": "markdown",
      "metadata": {
        "id": "8QW5I6LYPCkb"
      },
      "source": [
        "# Protein embeddings in practice"
      ]
    },
    {
      "cell_type": "markdown",
      "metadata": {
        "id": "60zW_iWwgnru"
      },
      "source": [
        "In this notebook, we will practically explore protein language models and the embeddings that they produce. We will use two freely available software packages: the comprehensive *'bio_embeddings'* package and the more recent *'protein_sequence_models'* package."
      ]
    },
    {
      "cell_type": "markdown",
      "metadata": {
        "id": "-aOQeo6fPiag"
      },
      "source": [
        "### 0. Installation and libraries\n",
        "---\n",
        "\n",
        "First, let's install the necessary software and load the desired packages. Note: the pip's dependency resolver ERROR can be safely ignored."
      ]
    },
    {
      "cell_type": "code",
      "execution_count": 1,
      "metadata": {
        "colab": {
          "base_uri": "https://localhost:8080/"
        },
        "id": "Yq4KntowoogC",
        "outputId": "a2dc56d5-b46f-472b-a9d6-7538a89a0375"
      },
      "outputs": [
        {
          "name": "stdout",
          "output_type": "stream",
          "text": [
            "\u001b[33mWARNING: Running pip as the 'root' user can result in broken permissions and conflicting behaviour with the system package manager. It is recommended to use a virtual environment instead: https://pip.pypa.io/warnings/venv\u001b[0m\u001b[33m\n",
            "\u001b[0m\u001b[31mERROR: pip's dependency resolver does not currently take into account all the packages that are installed. This behaviour is the source of the following dependency conflicts.\n",
            "yellowbrick 1.4 requires scikit-learn>=1.0.0, but you have scikit-learn 0.24.2 which is incompatible.\u001b[0m\u001b[31m\n",
            "\u001b[0m\u001b[33mWARNING: Running pip as the 'root' user can result in broken permissions and conflicting behaviour with the system package manager. It is recommended to use a virtual environment instead: https://pip.pypa.io/warnings/venv\u001b[0m\u001b[33m\n",
            "\u001b[0m"
          ]
        }
      ],
      "source": [
        "# Install software for Google Colab\n",
        "!pip3 install -U pip > /dev/null\n",
        "!pip3 install -U bio_embeddings[all] > /dev/null\n",
        "!pip install scikit_learn==1.0.2\n",
        "!pip install pyyaml==5.4.1"
      ]
    },
    {
      "cell_type": "code",
      "execution_count": 1,
      "metadata": {
        "colab": {
          "base_uri": "https://localhost:8080/"
        },
        "execution": {
          "iopub.execute_input": "2022-05-22T20:00:35.830225Z",
          "iopub.status.busy": "2022-05-22T20:00:35.829905Z",
          "iopub.status.idle": "2022-05-22T20:03:08.083147Z",
          "shell.execute_reply": "2022-05-22T20:03:08.082293Z",
          "shell.execute_reply.started": "2022-05-22T20:00:35.830130Z"
        },
        "id": "mtiN3UkvO_m-",
        "outputId": "6456465c-0e01-40cc-d077-4b553b318d75",
        "trusted": true
      },
      "outputs": [
        {
          "name": "stdout",
          "output_type": "stream",
          "text": [
            "Requirement already satisfied: bio_embeddings==0.2.2 in /usr/local/lib/python3.7/dist-packages (0.2.2)\n",
            "Requirement already satisfied: plotly<6.0.0,>=5.1.0 in /usr/local/lib/python3.7/dist-packages (from bio_embeddings==0.2.2) (5.5.0)\n",
            "Requirement already satisfied: tqdm<5.0.0,>=4.45.0 in /usr/local/lib/python3.7/dist-packages (from bio_embeddings==0.2.2) (4.64.0)\n",
            "Requirement already satisfied: ruamel.yaml<0.18.0,>=0.17.10 in /usr/local/lib/python3.7/dist-packages (from bio_embeddings==0.2.2) (0.17.21)\n",
            "Requirement already satisfied: appdirs<2.0.0,>=1.4.4 in /usr/local/lib/python3.7/dist-packages (from bio_embeddings==0.2.2) (1.4.4)\n",
            "Requirement already satisfied: h5py<4.0.0,>=3.2.1 in /usr/local/lib/python3.7/dist-packages (from bio_embeddings==0.2.2) (3.6.0)\n",
            "Requirement already satisfied: scipy<2.0.0,>=1.4.1 in /usr/local/lib/python3.7/dist-packages (from bio_embeddings==0.2.2) (1.4.1)\n",
            "Requirement already satisfied: pandas<2.0.0,>=1.2.0 in /usr/local/lib/python3.7/dist-packages (from bio_embeddings==0.2.2) (1.3.5)\n",
            "Requirement already satisfied: gensim<4.0.0,>=3.8.2 in /usr/local/lib/python3.7/dist-packages (from bio_embeddings==0.2.2) (3.8.3)\n",
            "Requirement already satisfied: torch<=1.10.0,>=1.8.0 in /usr/local/lib/python3.7/dist-packages (from bio_embeddings==0.2.2) (1.9.1)\n",
            "Requirement already satisfied: python-slugify<6.0.0,>=5.0.2 in /usr/local/lib/python3.7/dist-packages (from bio_embeddings==0.2.2) (5.0.2)\n",
            "Requirement already satisfied: atomicwrites<2.0.0,>=1.4.0 in /usr/local/lib/python3.7/dist-packages (from bio_embeddings==0.2.2) (1.4.0)\n",
            "Requirement already satisfied: umap-learn<0.6.0,>=0.5.1 in /usr/local/lib/python3.7/dist-packages (from bio_embeddings==0.2.2) (0.5.3)\n",
            "Collecting scikit-learn<0.25.0,>=0.24.0\n",
            "  Using cached scikit_learn-0.24.2-cp37-cp37m-manylinux2010_x86_64.whl (22.3 MB)\n",
            "Requirement already satisfied: lock<2019.0.0,>=2018.3.25 in /usr/local/lib/python3.7/dist-packages (from bio_embeddings==0.2.2) (2018.3.25.2110)\n",
            "Requirement already satisfied: importlib_metadata<5.0.0,>=4.6.1 in /usr/local/lib/python3.7/dist-packages (from bio_embeddings==0.2.2) (4.11.3)\n",
            "Requirement already satisfied: matplotlib<4.0.0,>=3.2.1 in /usr/local/lib/python3.7/dist-packages (from bio_embeddings==0.2.2) (3.2.2)\n",
            "Requirement already satisfied: biopython<2.0,>=1.79 in /usr/local/lib/python3.7/dist-packages (from bio_embeddings==0.2.2) (1.79)\n",
            "Requirement already satisfied: humanize<4.0.0,>=3.2.0 in /usr/local/lib/python3.7/dist-packages (from bio_embeddings==0.2.2) (3.14.0)\n",
            "Requirement already satisfied: numpy<2.0.0,>=1.18.3 in /usr/local/lib/python3.7/dist-packages (from bio_embeddings==0.2.2) (1.21.6)\n",
            "Requirement already satisfied: smart-open>=1.8.1 in /usr/local/lib/python3.7/dist-packages (from gensim<4.0.0,>=3.8.2->bio_embeddings==0.2.2) (6.0.0)\n",
            "Requirement already satisfied: six>=1.5.0 in /usr/local/lib/python3.7/dist-packages (from gensim<4.0.0,>=3.8.2->bio_embeddings==0.2.2) (1.15.0)\n",
            "Requirement already satisfied: cached-property in /usr/local/lib/python3.7/dist-packages (from h5py<4.0.0,>=3.2.1->bio_embeddings==0.2.2) (1.5.2)\n",
            "Requirement already satisfied: zipp>=0.5 in /usr/local/lib/python3.7/dist-packages (from importlib_metadata<5.0.0,>=4.6.1->bio_embeddings==0.2.2) (3.8.0)\n",
            "Requirement already satisfied: typing-extensions>=3.6.4 in /usr/local/lib/python3.7/dist-packages (from importlib_metadata<5.0.0,>=4.6.1->bio_embeddings==0.2.2) (4.2.0)\n",
            "Requirement already satisfied: cycler>=0.10 in /usr/local/lib/python3.7/dist-packages (from matplotlib<4.0.0,>=3.2.1->bio_embeddings==0.2.2) (0.11.0)\n",
            "Requirement already satisfied: python-dateutil>=2.1 in /usr/local/lib/python3.7/dist-packages (from matplotlib<4.0.0,>=3.2.1->bio_embeddings==0.2.2) (2.8.2)\n",
            "Requirement already satisfied: kiwisolver>=1.0.1 in /usr/local/lib/python3.7/dist-packages (from matplotlib<4.0.0,>=3.2.1->bio_embeddings==0.2.2) (1.4.2)\n",
            "Requirement already satisfied: pyparsing!=2.0.4,!=2.1.2,!=2.1.6,>=2.0.1 in /usr/local/lib/python3.7/dist-packages (from matplotlib<4.0.0,>=3.2.1->bio_embeddings==0.2.2) (3.0.9)\n",
            "Requirement already satisfied: pytz>=2017.3 in /usr/local/lib/python3.7/dist-packages (from pandas<2.0.0,>=1.2.0->bio_embeddings==0.2.2) (2022.1)\n",
            "Requirement already satisfied: tenacity>=6.2.0 in /usr/local/lib/python3.7/dist-packages (from plotly<6.0.0,>=5.1.0->bio_embeddings==0.2.2) (8.0.1)\n",
            "Requirement already satisfied: text-unidecode>=1.3 in /usr/local/lib/python3.7/dist-packages (from python-slugify<6.0.0,>=5.0.2->bio_embeddings==0.2.2) (1.3)\n",
            "Requirement already satisfied: ruamel.yaml.clib>=0.2.6 in /usr/local/lib/python3.7/dist-packages (from ruamel.yaml<0.18.0,>=0.17.10->bio_embeddings==0.2.2) (0.2.6)\n",
            "Requirement already satisfied: joblib>=0.11 in /usr/local/lib/python3.7/dist-packages (from scikit-learn<0.25.0,>=0.24.0->bio_embeddings==0.2.2) (1.1.0)\n",
            "Requirement already satisfied: threadpoolctl>=2.0.0 in /usr/local/lib/python3.7/dist-packages (from scikit-learn<0.25.0,>=0.24.0->bio_embeddings==0.2.2) (3.1.0)\n",
            "Requirement already satisfied: pynndescent>=0.5 in /usr/local/lib/python3.7/dist-packages (from umap-learn<0.6.0,>=0.5.1->bio_embeddings==0.2.2) (0.5.7)\n",
            "Requirement already satisfied: numba>=0.49 in /usr/local/lib/python3.7/dist-packages (from umap-learn<0.6.0,>=0.5.1->bio_embeddings==0.2.2) (0.51.2)\n",
            "Requirement already satisfied: setuptools in /usr/local/lib/python3.7/dist-packages (from numba>=0.49->umap-learn<0.6.0,>=0.5.1->bio_embeddings==0.2.2) (57.4.0)\n",
            "Requirement already satisfied: llvmlite<0.35,>=0.34.0.dev0 in /usr/local/lib/python3.7/dist-packages (from numba>=0.49->umap-learn<0.6.0,>=0.5.1->bio_embeddings==0.2.2) (0.34.0)\n",
            "Installing collected packages: scikit-learn\n",
            "  Attempting uninstall: scikit-learn\n",
            "    Found existing installation: scikit-learn 1.0.2\n",
            "    Uninstalling scikit-learn-1.0.2:\n",
            "      Successfully uninstalled scikit-learn-1.0.2\n",
            "\u001b[31mERROR: pip's dependency resolver does not currently take into account all the packages that are installed. This behaviour is the source of the following dependency conflicts.\n",
            "yellowbrick 1.4 requires scikit-learn>=1.0.0, but you have scikit-learn 0.24.2 which is incompatible.\u001b[0m\n",
            "Successfully installed scikit-learn-0.24.2\n",
            "Requirement already satisfied: torchvision==0.10.1 in /usr/local/lib/python3.7/dist-packages (0.10.1)\n",
            "Requirement already satisfied: pillow>=5.3.0 in /usr/local/lib/python3.7/dist-packages (from torchvision==0.10.1) (7.1.2)\n",
            "Requirement already satisfied: torch==1.9.1 in /usr/local/lib/python3.7/dist-packages (from torchvision==0.10.1) (1.9.1)\n",
            "Requirement already satisfied: numpy in /usr/local/lib/python3.7/dist-packages (from torchvision==0.10.1) (1.21.6)\n",
            "Requirement already satisfied: typing-extensions in /usr/local/lib/python3.7/dist-packages (from torch==1.9.1->torchvision==0.10.1) (4.2.0)\n",
            "\u001b[31mERROR: Invalid requirement: 'scikit_learn=1.0.2'\n",
            "Hint: = is not a valid operator. Did you mean == ?\u001b[0m\n"
          ]
        }
      ],
      "source": [
        "# Install software for Kaggle\n",
        "!pip install bio_embeddings==0.2.2\n",
        "!pip install torchvision==0.10.1"
      ]
    },
    {
      "cell_type": "code",
      "execution_count": 3,
      "metadata": {
        "colab": {
          "base_uri": "https://localhost:8080/"
        },
        "execution": {
          "iopub.execute_input": "2022-05-22T20:03:12.243974Z",
          "iopub.status.busy": "2022-05-22T20:03:12.243603Z",
          "iopub.status.idle": "2022-05-22T20:03:38.300318Z",
          "shell.execute_reply": "2022-05-22T20:03:38.299565Z",
          "shell.execute_reply.started": "2022-05-22T20:03:12.243932Z"
        },
        "id": "8jrtaDJdPEiH",
        "outputId": "b2575f2a-2f0b-47cb-bf6b-95d26c836a10",
        "trusted": true
      },
      "outputs": [
        {
          "name": "stderr",
          "output_type": "stream",
          "text": [
            "/usr/local/lib/python3.7/dist-packages/distributed/config.py:20: YAMLLoadWarning: calling yaml.load() without Loader=... is deprecated, as the default Loader is unsafe. Please read https://msg.pyyaml.org/load for full details.\n",
            "  defaults = yaml.load(f)\n"
          ]
        }
      ],
      "source": [
        "# import libraries\n",
        "import numpy as np\n",
        "import pandas as pd\n",
        "from tqdm import tqdm\n",
        "from Bio import SeqIO\n",
        "from bio_embeddings.embed import ProtTransBertBFDEmbedder"
      ]
    },
    {
      "cell_type": "markdown",
      "metadata": {
        "id": "a7V7GVzdjoHf"
      },
      "source": [
        "### 1. Very simple introduction\n",
        "---\n",
        "\n",
        "#### The basics\n",
        "\n",
        "Let's use the ProtTransBertBFDEMbedder from the bio_embeddings package and compute embeddings for a simple test sequence. The basic workflow to compute an embedding is the following: (1) define an embedder (a pretrained model to compute embeddings from), (2) define your sequence as a string and (3) compute the embedding and reduce if desired. Note: The first time an embedder is loaded into memory takes a minute or two."
      ]
    },
    {
      "cell_type": "code",
      "execution_count": 4,
      "metadata": {
        "colab": {
          "base_uri": "https://localhost:8080/"
        },
        "execution": {
          "iopub.execute_input": "2022-05-22T14:29:40.242822Z",
          "iopub.status.busy": "2022-05-22T14:29:40.242354Z",
          "iopub.status.idle": "2022-05-22T14:30:38.946136Z",
          "shell.execute_reply": "2022-05-22T14:30:38.945436Z",
          "shell.execute_reply.started": "2022-05-22T14:29:40.242785Z"
        },
        "id": "zmYDCoD_etFx",
        "outputId": "c33e17be-8a38-432e-a7fe-76a9d4a8dddb",
        "trusted": true
      },
      "outputs": [
        {
          "name": "stderr",
          "output_type": "stream",
          "text": [
            "Some weights of the model checkpoint at /root/.cache/bio_embeddings/prottrans_bert_bfd/model_directory were not used when initializing BertModel: ['cls.predictions.transform.LayerNorm.bias', 'cls.seq_relationship.bias', 'cls.predictions.transform.dense.weight', 'cls.predictions.decoder.weight', 'cls.predictions.decoder.bias', 'cls.seq_relationship.weight', 'cls.predictions.bias', 'cls.predictions.transform.LayerNorm.weight', 'cls.predictions.transform.dense.bias']\n",
            "- This IS expected if you are initializing BertModel from the checkpoint of a model trained on another task or with another architecture (e.g. initializing a BertForSequenceClassification model from a BertForPreTraining model).\n",
            "- This IS NOT expected if you are initializing BertModel from the checkpoint of a model that you expect to be exactly identical (initializing a BertForSequenceClassification model from a BertForSequenceClassification model).\n"
          ]
        }
      ],
      "source": [
        "embedder = ProtTransBertBFDEmbedder()\n",
        "sequence = \"THISISASEQUENCE\"\n",
        "embedding = embedder.embed(sequence)\n",
        "reduced_embedding = embedder.reduce_per_protein(embedding)"
      ]
    },
    {
      "cell_type": "markdown",
      "metadata": {
        "id": "3sE-yV66kDeb"
      },
      "source": [
        "> **To-do and questions**\n",
        "> - Look at the embedding and reduced_embedding\n",
        "> - How do these two differ? And what do they signify?\n",
        "> - Recalling the theory slides, how does the reduction work? Can you think of other ways of doing this?\n",
        "> - Compare the embedding of the first 'E' with the embedding of the last 'E', are they the same?"
      ]
    },
    {
      "cell_type": "markdown",
      "metadata": {
        "id": "HYYy8m0AZwMv"
      },
      "source": [
        "#### Computing many embeddings in a loop\n",
        "\n",
        "If you have many sequences available for which you want to compute embeddings, it's probably easier to put them in a FASTA file and loop over them.\n",
        "\n",
        "> **To-do**\n",
        ">\n",
        "> 1. Write a small function that parses a FASTA file and computes embeddings for each of the sequences.\n",
        "> \n",
        "> 2. Upload the two FASTA files in the GitHub repo onto the Kaggle or Colab platform. On Kaggle, see 'Add data' button in the upper right corner. This file will be located at '../input/a_folder_you_designate'. In Colab, files can be uploaded just as easy. Click on the *folder\b* icon in the left bar, then select the location where you want to store your files and click on the *upload* icon.\n",
        ">\n",
        "> 3. Run your function on one of the uploaded files and inspect the results.\n",
        ">\n",
        "> Tip 1: you can use 'SeqIO.parse' and a simple list comprehension to compute your embeddings in a loop.\n",
        ">\n",
        "> Tip 2: to track progress, you can use the 'tqdm' function in the list comprehension."
      ]
    },
    {
      "cell_type": "code",
      "execution_count": null,
      "metadata": {
        "execution": {
          "iopub.execute_input": "2022-05-22T20:03:44.462709Z",
          "iopub.status.busy": "2022-05-22T20:03:44.462240Z",
          "iopub.status.idle": "2022-05-22T20:03:44.467779Z",
          "shell.execute_reply": "2022-05-22T20:03:44.467131Z",
          "shell.execute_reply.started": "2022-05-22T20:03:44.462671Z"
        },
        "id": "qAmGL0pUZD9F",
        "trusted": true
      },
      "outputs": [],
      "source": [
        "def compute_protein_embeddings(fasta_file):\n",
        "  ..."
      ]
    },
    {
      "cell_type": "code",
      "execution_count": null,
      "metadata": {
        "id": "dIBij5Lnk-nl"
      },
      "outputs": [],
      "source": [
        "embeddings = compute_protein_embeddings('your_fasta_file')"
      ]
    },
    {
      "cell_type": "markdown",
      "metadata": {
        "id": "EF9m3Bymk-nm"
      },
      "source": [
        "#### Which is the best protein language model?\n",
        "\n",
        "\n",
        "What's clear from the [bio_embeddings GitHub repo](https://github.com/sacdallago/bio_embeddings) is that a variety of different protein language models exist and can be used to compute embeddings with. However, which of these embeddings is most informative? As mentioned in the 'bio_embeddings' ReadMe: \"The models prottrans_t5_xl_u50, esm1b, esm, prottrans_bert_bfd, prottrans_albert_bfd, seqvec and prottrans_xlnet_uniref100 were all trained with the goal of systematic predictions. From this pool, we believe the optimal model to be prottrans_t5_xl_u50, followed by esm1b.\"\n",
        "\n",
        "Below, try to load an instance of the t5_xl_u50 model and see what you get. \n",
        "\n",
        "**Warning**: this takes a while... \n",
        "\n",
        "**Spoiler**: it crashes the CPU..."
      ]
    },
    {
      "cell_type": "code",
      "execution_count": null,
      "metadata": {
        "execution": {
          "iopub.execute_input": "2022-05-22T14:43:26.328085Z",
          "iopub.status.busy": "2022-05-22T14:43:26.327811Z"
        },
        "id": "W3iEdv-1k-nn",
        "trusted": true
      },
      "outputs": [],
      "source": [
        "from bio_embeddings.embed import ProtTransT5XLU50Embedder\n",
        "embedder = ProtTransT5XLU50Embedder()"
      ]
    },
    {
      "cell_type": "markdown",
      "metadata": {
        "id": "CzPufaP0k-nn"
      },
      "source": [
        "Unfortunately, notebook environments like this are not suited to run the largest, most performant models (yet), due to their size and necessary allocation on the CPU and GPU. For more info, see [the init file](https://github.com/sacdallago/bio_embeddings/blob/develop/bio_embeddings/embed/__init__.py) of the embedders."
      ]
    },
    {
      "cell_type": "markdown",
      "metadata": {
        "id": "UZhWNljPk-no"
      },
      "source": [
        "### 2. Visualizing embeddings\n",
        "---\n",
        "\n",
        "#### Individual amino acid embeddings\n",
        "\n",
        "At the most basic level we would assume that, in some way at least, similar amino acids have similar embeddings. A simple way to check this is to make visualizations of the embeddings in two or three dimensions. We can simply use our favorite dimensionality reduction technique (PCA, t-SNE, UMAP) for this.\n",
        "\n",
        "> **To-do**\n",
        ">\n",
        "> - Compute an embedding for every naturally occuring amino acid and project them into lower dimensions.\n",
        "> - Visualize these lower dimension projections. You can use the 'render_scatter_plotly' function in bio_embeddings.visualize for this. Tip: help(render_scatter_plotly) to see what is needed as input.\n",
        "> - Color the amino acids by polarity and charge to identify any clusters. Tip: see the 'label' input for the render_scatter_plotly function.\n"
      ]
    },
    {
      "cell_type": "code",
      "execution_count": 6,
      "metadata": {
        "execution": {
          "iopub.execute_input": "2022-05-22T20:08:14.974989Z",
          "iopub.status.busy": "2022-05-22T20:08:14.974489Z",
          "iopub.status.idle": "2022-05-22T20:08:14.979110Z",
          "shell.execute_reply": "2022-05-22T20:08:14.978327Z",
          "shell.execute_reply.started": "2022-05-22T20:08:14.974952Z"
        },
        "id": "ArJzWsAzk-no",
        "trusted": true
      },
      "outputs": [],
      "source": [
        "from bio_embeddings.visualize import render_scatter_plotly\n",
        "from sklearn.manifold import TSNE\n",
        "import umap"
      ]
    },
    {
      "cell_type": "code",
      "execution_count": null,
      "metadata": {
        "execution": {
          "iopub.execute_input": "2022-05-22T15:02:58.544385Z",
          "iopub.status.busy": "2022-05-22T15:02:58.543915Z",
          "iopub.status.idle": "2022-05-22T15:02:58.551770Z",
          "shell.execute_reply": "2022-05-22T15:02:58.550871Z",
          "shell.execute_reply.started": "2022-05-22T15:02:58.544348Z"
        },
        "id": "c-wWlzDGk-np",
        "trusted": true
      },
      "outputs": [],
      "source": [
        "amino_acids = ['A','C','D','E','F','G','H','I','K','L','M','N','P','Q','R','S','T','V','W','Y']\n",
        "groups = {'polar': ['S', 'T', 'Y', 'N', 'Q'], 'non-polar':['G', 'A', 'V', 'C', 'P', 'L', 'I', 'M', 'W', 'F'], \n",
        "         'pos+': ['L', 'R', 'H'], 'neg-':['D', 'E']}\n",
        "help(render_scatter_plotly)"
      ]
    },
    {
      "cell_type": "code",
      "execution_count": null,
      "metadata": {
        "execution": {
          "iopub.execute_input": "2022-05-22T15:14:10.316093Z",
          "iopub.status.busy": "2022-05-22T15:14:10.315361Z",
          "iopub.status.idle": "2022-05-22T15:14:29.353690Z",
          "shell.execute_reply": "2022-05-22T15:14:29.352930Z",
          "shell.execute_reply.started": "2022-05-22T15:14:10.316054Z"
        },
        "id": "waJNwdRik-np",
        "trusted": true
      },
      "outputs": [],
      "source": [
        "embedder = ProtTransBertBFDEmbedder()\n",
        "embeddings = ..."
      ]
    },
    {
      "cell_type": "markdown",
      "metadata": {
        "id": "K8I3hx3hk-nq"
      },
      "source": [
        "> **To-do and Questions**\n",
        ">\n",
        "> - Do we see what we expect to see? What is in line with expectations, what is not?\n",
        "> - Explore other embedders to see if they produce different results: BeplerEmbedder, SeqVecEmbedder, ..."
      ]
    },
    {
      "cell_type": "markdown",
      "metadata": {
        "id": "09ksK3C4k-nr"
      },
      "source": [
        "#### Full protein sequence embeddings related to *Saccharomyces cerevisiae* and *Homo sapiens*\n",
        "\n",
        "Now, we'll do the same for full proteins. More specifically, we will visualize the protein sequences in the FASTA files, collected from UniProt and related to *Saccharomyces cerevisiae* and *Homo sapiens*.\n",
        "\n",
        "> **To-do**\n",
        "> \n",
        "> - Let's get back to the two FASTA files we've seen before, upload both of them from the GitHub repo onto Kaggle or Colab if you haven't already.\n",
        "> - Repeat the process above: (1) use your previously implemented function to compute embeddings for all of the protein sequences, (2) project those into lower dimensions and (3) visualize them.\n"
      ]
    },
    {
      "cell_type": "code",
      "execution_count": null,
      "metadata": {
        "execution": {
          "iopub.execute_input": "2022-05-22T20:03:59.443322Z",
          "iopub.status.busy": "2022-05-22T20:03:59.443049Z",
          "iopub.status.idle": "2022-05-22T20:06:55.390279Z",
          "shell.execute_reply": "2022-05-22T20:06:55.389430Z",
          "shell.execute_reply.started": "2022-05-22T20:03:59.443293Z"
        },
        "id": "0HrTSvuGk-nr",
        "trusted": true
      },
      "outputs": [],
      "source": [
        "embeddings_sapiens = compute_protein_embeddings('../uniprot_sapiens.fasta')\n",
        "embeddings_yeast = compute_protein_embeddings('../uniprot_yeast.fasta')"
      ]
    },
    {
      "cell_type": "markdown",
      "metadata": {
        "id": "IiyrI4-4k-ns"
      },
      "source": [
        "### 3. Stacking a supervised model\n",
        "---\n",
        "\n",
        "#### A simple binary classifier\n",
        "\n",
        "Recalling the theory slides, we can stack a supervised machine learning model on these computed embeddings to perform a specific task. This means we use our computed embeddings as input for a supervised model where labels are available.\n",
        "\n",
        "> **To-do**\n",
        "> \n",
        "> Build a binary classifier on top of the computed embeddings that discriminate between proteins from *Homo sapiens* and *Saccharomyces cerevisiae*.\n",
        ">\n",
        "> Tip: you can probably build a simple classifier in Scikit-learn with [just a few lines of code](https://scikit-learn.org/stable/tutorial/basic/tutorial.html). If you're stuck, you can have a look at a [related example](https://github.com/sacdallago/bio_embeddings/blob/develop/notebooks/deeploc_machine_learning.ipynb) from the *bio_embeddings* package.\n"
      ]
    },
    {
      "cell_type": "code",
      "execution_count": null,
      "metadata": {
        "execution": {
          "iopub.execute_input": "2022-05-22T20:46:47.444934Z",
          "iopub.status.busy": "2022-05-22T20:46:47.444248Z",
          "iopub.status.idle": "2022-05-22T20:46:47.449060Z",
          "shell.execute_reply": "2022-05-22T20:46:47.448212Z",
          "shell.execute_reply.started": "2022-05-22T20:46:47.444896Z"
        },
        "id": "igopFpAbk-ns",
        "trusted": true
      },
      "outputs": [],
      "source": [
        "from sklearn.ensemble import RandomForestClassifier\n",
        "from sklearn.model_selection import KFold, train_test_split\n",
        "from sklearn.metrics import accuracy_score, pairwise_distances"
      ]
    },
    {
      "cell_type": "code",
      "execution_count": null,
      "metadata": {},
      "outputs": [],
      "source": [
        "..."
      ]
    },
    {
      "cell_type": "markdown",
      "metadata": {
        "id": "YUbLWfr_k-nt"
      },
      "source": [
        "> **Question**\n",
        ">\n",
        "> How would this approach change if we were to use individual amino acid embeddings to make some predictions (e.g. predict secondary structures at the AA level)?\n",
        ">"
      ]
    },
    {
      "cell_type": "markdown",
      "metadata": {
        "id": "yOLDX-L7k-nt"
      },
      "source": [
        "#### K-nearest neighbors\n",
        "\n",
        "Let's try a different approach. You can also implement a simple K-nearest neigbor classifier by computing distances in the embeddings space. \n",
        "\n",
        "> **To-do**\n",
        "> \n",
        "> 1. Split the computed embeddings into a training and test part.\n",
        "> 2. Compute the pairwise distances between the training embeddings vectors and each of the test vectors. Tip: look at the above uploaded modules.\n",
        "> 3. For each of the test vectors, collect the k closest training vectors and their corresponding labels.\n",
        "> 4. Apply a majority vote to predict the label.\n",
        "> 5. Compare the accuracy with that of your previous classifier."
      ]
    },
    {
      "cell_type": "code",
      "execution_count": null,
      "metadata": {},
      "outputs": [],
      "source": [
        "..."
      ]
    },
    {
      "cell_type": "markdown",
      "metadata": {
        "id": "pOCFsDXAk-nu"
      },
      "source": [
        "### 4. Beyond the *bio_embeddings* package\n",
        "---\n",
        "\n",
        "For those who hadn't had enough already, a few more interesting publicly available packages exist. Two that stand out are Microsoft's [*protein-sequence-models*](https://github.com/microsoft/protein-sequence-models) package and Brandes' [*protein_bert*](https://github.com/nadavbra/protein_bert) package.\n",
        "\n",
        "\n",
        "> **To-do**\n",
        ">\n",
        "> Explore the pretrained CARP models in the *protein-sequence-models* package and how you can compute embeddings with those. Redo some of the visualizations and/or model stacking and compare.\n",
        ">"
      ]
    },
    {
      "cell_type": "code",
      "execution_count": null,
      "metadata": {
        "execution": {
          "iopub.execute_input": "2022-05-22T19:32:57.360470Z",
          "iopub.status.busy": "2022-05-22T19:32:57.360195Z",
          "iopub.status.idle": "2022-05-22T19:33:16.783787Z",
          "shell.execute_reply": "2022-05-22T19:33:16.782936Z",
          "shell.execute_reply.started": "2022-05-22T19:32:57.360440Z"
        },
        "id": "4LCZ6sNuk-nv",
        "trusted": true
      },
      "outputs": [],
      "source": [
        "!pip install sequence-models\n",
        "!pip install wget"
      ]
    },
    {
      "cell_type": "code",
      "execution_count": null,
      "metadata": {
        "execution": {
          "iopub.execute_input": "2022-05-22T19:35:18.726181Z",
          "iopub.status.busy": "2022-05-22T19:35:18.725877Z",
          "iopub.status.idle": "2022-05-22T19:35:38.475017Z",
          "shell.execute_reply": "2022-05-22T19:35:38.474072Z",
          "shell.execute_reply.started": "2022-05-22T19:35:18.726134Z"
        },
        "id": "_IVw1QSnk-nv",
        "trusted": true
      },
      "outputs": [],
      "source": [
        "from sequence_models.pretrained import load_model_and_alphabet\n",
        "model, collater = load_model_and_alphabet('carp_76M')"
      ]
    },
    {
      "cell_type": "code",
      "execution_count": null,
      "metadata": {
        "id": "76-OSxrUvwXO"
      },
      "outputs": [],
      "source": [
        "..."
      ]
    }
  ],
  "metadata": {
    "accelerator": "GPU",
    "colab": {
      "name": "protein_embeddings_practice.ipynb",
      "provenance": []
    },
    "kernelspec": {
      "display_name": "Python 3",
      "language": "python",
      "name": "python3"
    },
    "language_info": {
      "codemirror_mode": {
        "name": "ipython",
        "version": 3
      },
      "file_extension": ".py",
      "mimetype": "text/x-python",
      "name": "python",
      "nbconvert_exporter": "python",
      "pygments_lexer": "ipython3",
      "version": "3.7.12"
    }
  },
  "nbformat": 4,
  "nbformat_minor": 0
}
